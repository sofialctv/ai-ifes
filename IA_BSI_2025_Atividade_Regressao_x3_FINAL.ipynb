{
 "cells": [
  {
   "cell_type": "markdown",
   "id": "e7f07809",
   "metadata": {},
   "source": [
    "# Inteligência Artificial – BSI – 2025/2  \n",
    "## Atividade Prática – Regressão com Redes Neurais\n"
   ]
  },
  {
   "cell_type": "markdown",
   "id": "5ffd5871",
   "metadata": {},
   "source": [
    "**Aluno(a):** ____________________________________________\n",
    "\n",
    "**Professor:** Sérgio Nery Simões\n",
    "\n",
    "**Data de Entrega:** 01/09/2025\n",
    "\n",
    "---\n",
    "\n",
    "**Objetivo da atividade:**  \n",
    "Aplicar os conceitos estudados sobre regressão com redes neurais artificiais, utilizando o framework PyTorch para modelar dados que seguem um padrão cúbico.\n",
    "\n",
    "---\n",
    "\n",
    "**Forma de envio:**  \n",
    "A atividade deverá ser entregue exclusivamente pelo ambiente virtual **Moodle**, por meio do envio deste notebook devidamente preenchido.  \n",
    "Certifique-se de inserir seu nome e de responder todas as seções antes de realizar o upload.\n"
   ]
  },
  {
   "cell_type": "markdown",
   "id": "cfd4d320",
   "metadata": {},
   "source": [
    "---"
   ]
  },
  {
   "cell_type": "markdown",
   "id": "5636e673",
   "metadata": {},
   "source": [
    "## Instruções\n",
    "\n",
    "1. Utilize o código fornecido para **gerar os dados** de entrada \\( x \\) e saída \\( y = x^3 \\) com um pequeno ruído.\n",
    "2. Crie uma rede neural usando PyTorch que **aprenda essa função**.\n",
    "3. Avalie visualmente e numericamente o desempenho do seu modelo com base no erro e no gráfico da curva aprendida.\n",
    "4. Comente ao final se o modelo está:\n",
    "   - Subajustado (underfitting)\n",
    "   - Superajustado (overfitting)\n",
    "   - Bem ajustado ao problema\n"
   ]
  },
  {
   "cell_type": "markdown",
   "id": "5311854d",
   "metadata": {},
   "source": [
    "### Importações"
   ]
  },
  {
   "cell_type": "code",
   "execution_count": null,
   "id": "bd0450d0",
   "metadata": {},
   "outputs": [],
   "source": [
    "import torch\n",
    "import torch.nn as nn\n",
    "import torch.optim as optim\n",
    "import numpy as np\n",
    "import pandas as pd\n",
    "import seaborn as sns\n",
    "import matplotlib.pyplot as plt\n",
    "from sklearn.model_selection import train_test_split\n"
   ]
  },
  {
   "cell_type": "markdown",
   "id": "9d0ef09b",
   "metadata": {},
   "source": [
    "### Geração de Dados"
   ]
  },
  {
   "cell_type": "code",
   "execution_count": null,
   "id": "0be61774",
   "metadata": {},
   "outputs": [],
   "source": [
    "# Gerar dados\n",
    "np.random.seed(42)\n",
    "x = np.linspace(-30, 30, 101).reshape(-1, 1)\n",
    "y = x ** 3 + 0.4 * np.random.randn(*x.shape)\n",
    "\n",
    "# Converter para DataFrame\n",
    "df = pd.DataFrame({'x': x.flatten(), 'y': y.flatten()})\n",
    "\n",
    "# Visualização\n",
    "plt.figure(figsize=(8, 5))\n",
    "sns.scatterplot(x='x', y='y', data=df, color='blue', s=50)\n",
    "plt.title(\"Distribuição dos dados gerados (y = x³ + ruído)\")\n",
    "plt.xlabel(\"x\")\n",
    "plt.ylabel(\"y\")\n",
    "plt.grid(True)\n",
    "plt.tight_layout()\n",
    "plt.show()\n"
   ]
  },
  {
   "cell_type": "markdown",
   "id": "bea3e052",
   "metadata": {},
   "source": [
    "### Particionando os dados"
   ]
  },
  {
   "cell_type": "code",
   "execution_count": null,
   "id": "7e3487a8",
   "metadata": {},
   "outputs": [],
   "source": [
    "# Separar treino e teste\n",
    "X_train, X_test, y_train, y_test = train_test_split(x, y, test_size=0.3, random_state=42)\n",
    "\n",
    "# Converter para tensores\n",
    "X_train_t = torch.tensor(X_train, dtype=torch.float32)\n",
    "y_train_t = torch.tensor(y_train, dtype=torch.float32)\n",
    "X_test_t = torch.tensor(X_test, dtype=torch.float32)\n",
    "y_test_t = torch.tensor(y_test, dtype=torch.float32)\n"
   ]
  },
  {
   "cell_type": "markdown",
   "id": "13b80265",
   "metadata": {},
   "source": [
    "### Crie sua rede neural\n",
    "\n",
    "Abaixo está um exemplo de rede neural. Você deve alterá-lo para melhorar o desempenho do modelo de acordo com a tarefa proposta.\n"
   ]
  },
  {
   "cell_type": "code",
   "execution_count": null,
   "id": "30d08733",
   "metadata": {},
   "outputs": [],
   "source": [
    "class RedeNeura(nn.Module):\n",
    "    def __init__(self):\n",
    "        super().__init__()\n",
    "        # Exemplo inicial (modifique como quiser)\n",
    "        self.net = nn.Sequential(\n",
    "            nn.Linear(1, 2),\n",
    "            nn.ReLU(),\n",
    "            nn.Linear(2, 1)\n",
    "        )\n",
    "\n",
    "    def forward(self, x):\n",
    "        return self.net(x)\n",
    "\n",
    "model = RedeNeura()\n"
   ]
  },
  {
   "cell_type": "markdown",
   "id": "b45aebda",
   "metadata": {},
   "source": [
    "### Treine seu modelo\n",
    "\n",
    "O código a seguir é um exemplo de treinamento. Você também pode modificá-lo conforme necessário para melhorar o ajuste do modelo.\n"
   ]
  },
  {
   "cell_type": "code",
   "execution_count": null,
   "id": "9cf59815",
   "metadata": {},
   "outputs": [],
   "source": [
    "criterion = nn.MSELoss()\n",
    "optimizer = optim.Adam(model.parameters(), lr=0.01)\n",
    "\n",
    "epochs = 500\n",
    "for epoch in range(epochs):\n",
    "    model.train()\n",
    "    optimizer.zero_grad()\n",
    "    y_pred = model(X_train_t)\n",
    "    loss = criterion(y_pred, y_train_t)\n",
    "    loss.backward()\n",
    "    optimizer.step()\n"
   ]
  },
  {
   "cell_type": "markdown",
   "id": "db411b5c",
   "metadata": {},
   "source": [
    "### Visualize os resultados"
   ]
  },
  {
   "cell_type": "code",
   "execution_count": null,
   "id": "e7853cc2",
   "metadata": {},
   "outputs": [],
   "source": [
    "model.eval()\n",
    "y_train_pred = model(X_train_t).detach().numpy()\n",
    "y_test_pred = model(X_test_t).detach().numpy()\n",
    "\n",
    "df_train = pd.DataFrame({'x': X_train.flatten(), 'y_real': y_train.flatten(), 'y_pred': y_train_pred.flatten()})\n",
    "df_test = pd.DataFrame({'x': X_test.flatten(), 'y_real': y_test.flatten(), 'y_pred': y_test_pred.flatten()})\n",
    "\n",
    "plt.figure(figsize=(10, 6))\n",
    "sns.scatterplot(x=\"x\", y=\"y_real\", data=df_train, label=\"Treino (real)\", color=\"blue\")\n",
    "sns.scatterplot(x=\"x\", y=\"y_real\", data=df_test, label=\"Teste (real)\", color=\"orange\")\n",
    "sns.lineplot(x=\"x\", y=\"y_pred\", data=df_test, label=\"Predição Teste\", color=\"red\")\n",
    "plt.title(\"Ajuste do modelo à função $y = x^3$\")\n",
    "plt.xlabel(\"x\")\n",
    "plt.ylabel(\"y\")\n",
    "plt.grid(True)\n",
    "plt.legend()\n",
    "plt.tight_layout()\n",
    "plt.show()\n"
   ]
  },
  {
   "cell_type": "markdown",
   "id": "492d5b2e",
   "metadata": {},
   "source": [
    "### Questão 1 – Diagnóstico do modelo com base no gráfico ajustado\n",
    "\n",
    "Com base no gráfico de predição do modelo ajustado sobre os dados de treino e teste, avalie o comportamento da rede neural.\n",
    "\n",
    "1) O modelo treinado apresenta sintomas de:\n",
    "\n",
    "    (A) **Underfitting** – A curva do modelo é excessivamente simples e não acompanha a tendência dos dados reais.\n",
    "\n",
    "    (B) **Overfitting** – A curva do modelo se ajusta muito bem aos dados de treino, mas não generaliza bem nos dados de teste.\n",
    "\n",
    "    (C) **ajuste adequado (good fit)** – A curva do modelo acompanha bem a tendência dos dados tanto no treino quanto no teste.\n",
    "\n",
    "Explique sua escolha considerando:\n",
    "\n",
    "- A forma da curva predita (é suave? flutua demais? segue bem os dados?)\n",
    "\n",
    "- Diferenças visíveis entre desempenho em treino e teste\n",
    "\n",
    "- Presença de ruído ou desvios sistemáticos\n"
   ]
  },
  {
   "cell_type": "markdown",
   "id": "23679178",
   "metadata": {},
   "source": [
    "**Resposta:**\n",
    "<br><br><br><br><br><br><br>.\n"
   ]
  },
  {
   "cell_type": "markdown",
   "id": "968354fd",
   "metadata": {},
   "source": [
    "---"
   ]
  },
  {
   "cell_type": "markdown",
   "id": "8abc7f8f",
   "metadata": {},
   "source": [
    "## Questão 2 – Ajuste da Rede Neural\n",
    "\n",
    "Altere a estrutura da rede neural para que ela consiga se ajustar adequadamente à curva dos dados, que segue o padrão cúbico:\n",
    "\n",
    "$$ \n",
    "y = x^3 + ruido\n",
    "$$\n",
    "\n",
    "Para isso, você deverá modificar, na célula de código que define a classe do modelo, o seguinte trecho de código até que o modelo esteja **bem ajustado à curva**:\n",
    "\n",
    "```python\n",
    "self.net = nn.Sequential(\n",
    "    nn.Linear(1, 2),\n",
    "    nn.ReLU(),\n",
    "    nn.Linear(2, 1)\n",
    ")\n",
    "```\n",
    "\n",
    "--\n",
    "\n",
    "**Dica: Para aumentar a complexidade do modelo, você pode adicionar mais camadas ocultas ou neurônios por camada. Comece aumentando o número de neurônios da camada oculta para um valor mais alto (ex: 20, ao invés de 2).**\n",
    "\n",
    "---\n"
   ]
  },
  {
   "cell_type": "markdown",
   "id": "415f3a7d",
   "metadata": {},
   "source": [
    "**Resposta:**\n",
    "<br><br><br><br><br><br><br>.\n"
   ]
  },
  {
   "cell_type": "markdown",
   "id": "a8870ce2",
   "metadata": {},
   "source": [
    "### Questão 3 – Ajuste do número de épocas\n",
    "\n",
    "Uma vez que você ajustou a rede neural para ter **a complexidade adequada** (número de camadas e neurônios) e ela foi capaz de se ajustar corretamente aos dados cúbicos...\n",
    "\n",
    "> Agora, seu objetivo é **reduzir o número de épocas** para um valor menor, **mas ainda suficiente para garantir a convergência** do modelo.\n",
    "\n",
    "\n",
    "**Passos:**\n",
    "\n",
    "- Diminua o número total de épocas (por exemplo, de 1000 para 500, 200 ou menos).\n",
    "- Execute novamente o treinamento.\n",
    "- Avalie se o modelo ainda consegue convergir para uma solução com bom desempenho.\n",
    "- Observe o gráfico da loss para verificar a convergência.\n",
    "\n",
    "\n",
    "\n",
    "**Pergunta final:**\n",
    "\n",
    "> Qual o menor número de épocas que você conseguiu utilizar mantendo um bom desempenho do modelo?\n",
    "\n",
    "**Explique brevemente como você avaliou que esse valor foi suficiente.**\n"
   ]
  },
  {
   "cell_type": "markdown",
   "id": "e3b67e0d",
   "metadata": {},
   "source": [
    "**Resposta:**\n",
    "<br><br><br><br><br><br><br>.\n"
   ]
  }
 ],
 "metadata": {
  "kernelspec": {
   "display_name": "IA",
   "language": "python",
   "name": "python3"
  },
  "language_info": {
   "codemirror_mode": {
    "name": "ipython",
    "version": 3
   },
   "file_extension": ".py",
   "mimetype": "text/x-python",
   "name": "python",
   "nbconvert_exporter": "python",
   "pygments_lexer": "ipython3",
   "version": "3.13.2"
  }
 },
 "nbformat": 4,
 "nbformat_minor": 5
}
