{
  "cells": [
    {
      "cell_type": "markdown",
      "metadata": {
        "id": "KSS0UNJ3Ps7O"
      },
      "source": [
        "# Tutorial PyTorch:\n",
        "\n",
        "    1) Regressão Linear"
      ],
      "id": "KSS0UNJ3Ps7O"
    },
    {
      "cell_type": "markdown",
      "metadata": {
        "id": "Kgxx3CAmPs7P"
      },
      "source": [
        "## Importação de Bibliotecas"
      ],
      "id": "Kgxx3CAmPs7P"
    },
    {
      "cell_type": "markdown",
      "metadata": {
        "id": "4rDdYfacPs7P"
      },
      "source": [
        "### Objetivo\n",
        "\n",
        "Neste notebook, você irá aprender a utilizar o PyTorch para resolver problemas de **regressão linear**. Ao final, será capaz de construir modelos simples e interpretar seus resultados."
      ],
      "id": "4rDdYfacPs7P"
    },
    {
      "cell_type": "code",
      "execution_count": null,
      "metadata": {
        "id": "4sVXdpdkPs7P"
      },
      "outputs": [],
      "source": [
        "import torch\n",
        "import torch.nn as nn\n",
        "import matplotlib.pyplot as plt"
      ],
      "id": "4sVXdpdkPs7P"
    },
    {
      "cell_type": "markdown",
      "metadata": {
        "id": "JX26sFKFPs7P"
      },
      "source": [
        "## Parte 1 – Regressão Linear (y = 2x + 1)"
      ],
      "id": "JX26sFKFPs7P"
    },
    {
      "cell_type": "code",
      "execution_count": null,
      "metadata": {
        "id": "bwmuxz-LPs7Q"
      },
      "outputs": [],
      "source": [
        "# Dados sintéticos\n",
        "x = torch.unsqueeze(torch.linspace(-5, 5, 100), dim=1)\n",
        "y = 2 * x + 1 + 0.9 * torch.randn(x.size())\n",
        "\n",
        "# Visualização\n",
        "plt.scatter(x.numpy(), y.numpy())\n",
        "plt.title(\"Dados de Regressão Linear\")\n",
        "plt.xlabel(\"x\")\n",
        "plt.ylabel(\"y\")\n",
        "plt.show()"
      ],
      "id": "bwmuxz-LPs7Q"
    },
    {
      "cell_type": "code",
      "source": [
        "# Modelo linear\n",
        "class ModeloRegressao(nn.Module):\n",
        "    def __init__(self):\n",
        "        super(ModeloRegressao, self).__init__()\n",
        "        self.linear = nn.Linear(1, 1)\n",
        "    def forward(self, x):\n",
        "        return self.linear(x)"
      ],
      "metadata": {
        "id": "a2eXTk3ibHWA"
      },
      "id": "a2eXTk3ibHWA",
      "execution_count": null,
      "outputs": []
    },
    {
      "cell_type": "code",
      "execution_count": null,
      "metadata": {
        "id": "tlebicFuPs7Q"
      },
      "outputs": [],
      "source": [
        "modelo = ModeloRegressao()\n",
        "criterio = nn.MSELoss()\n",
        "otimizador = torch.optim.SGD(modelo.parameters(), lr=0.05)\n",
        "\n",
        "# Treinamento\n",
        "for epoca in range(100):\n",
        "    saida = modelo(x)\n",
        "    perda = criterio(saida, y)\n",
        "\n",
        "    otimizador.zero_grad()\n",
        "    perda.backward()\n",
        "    otimizador.step()\n",
        "\n",
        "    if (epoca + 1) % 10 == 0:\n",
        "        print(f'Época {epoca+1}, Perda: {perda.item():.4f}')"
      ],
      "id": "tlebicFuPs7Q"
    },
    {
      "cell_type": "markdown",
      "metadata": {
        "id": "0OVDgIXqPs7Q"
      },
      "source": [
        "### Exercício 1\n",
        "\n",
        "Modifique a taxa de aprendizado (`lr`) para `0.001`, `0.01` e `0.1`. Observe como isso afeta a convergência do modelo. Qual taxa parece melhor neste caso?"
      ],
      "id": "0OVDgIXqPs7Q"
    },
    {
      "cell_type": "code",
      "execution_count": null,
      "metadata": {
        "id": "l-SdKUg7Ps7Q"
      },
      "outputs": [],
      "source": [
        "# Visualização dos resultados\n",
        "plt.scatter(x.numpy(), y.numpy(), label='Dados reais')\n",
        "plt.plot(x.numpy(), modelo(x).detach().numpy(), color='red', label='Predição')\n",
        "plt.legend()\n",
        "plt.title(\"Regressão Linear com PyTorch\")\n",
        "plt.show()"
      ],
      "id": "l-SdKUg7Ps7Q"
    },
    {
      "cell_type": "markdown",
      "metadata": {
        "id": "QgoOT03KPs7Q"
      },
      "source": [
        "## Parte 2 – Regressão Não Linear (y = 3x² - 10x + 6)"
      ],
      "id": "QgoOT03KPs7Q"
    },
    {
      "cell_type": "code",
      "execution_count": null,
      "metadata": {
        "id": "8R8jk-59Ps7Q"
      },
      "outputs": [],
      "source": [
        "# Dados quadráticos\n",
        "x = torch.unsqueeze(torch.linspace(-2, 5, 200), dim=1)\n",
        "y = 3 * x**2 - 10 * x + 6 + 1.0 * torch.randn(x.size())\n",
        "\n",
        "plt.scatter(x.numpy(), y.numpy(), s=10)\n",
        "plt.title(\"Função alvo: y = 3x² - 10x + 6\")\n",
        "plt.xlabel(\"x\")\n",
        "plt.ylabel(\"y\")\n",
        "plt.show()"
      ],
      "id": "8R8jk-59Ps7Q"
    },
    {
      "cell_type": "markdown",
      "metadata": {
        "id": "R9Iue7xEPs7Q"
      },
      "source": [
        "### Exercício 2\n",
        "\n",
        "a) Altere a função hipótese do modelo anterior para (y = 5x² - 20x + 10). Descreva se o modelo consegue se ajustar ou se ocorre algum problema.\n",
        "\n"
      ],
      "id": "R9Iue7xEPs7Q"
    },
    {
      "cell_type": "code",
      "source": [
        "# Coloque seu código aqui\n"
      ],
      "metadata": {
        "id": "IxKbFr4-uBi8"
      },
      "id": "IxKbFr4-uBi8",
      "execution_count": null,
      "outputs": []
    },
    {
      "cell_type": "markdown",
      "source": [
        "b) Agora altere o número de neurônios em cada camada (ex: `32`, `16`, `1`) e descreva o que acontece."
      ],
      "metadata": {
        "id": "KBF3SgZLuElz"
      },
      "id": "KBF3SgZLuElz"
    },
    {
      "cell_type": "code",
      "source": [
        "# Coloque seu código aqui\n"
      ],
      "metadata": {
        "id": "tJss50gfuPvi"
      },
      "execution_count": null,
      "outputs": [],
      "id": "tJss50gfuPvi"
    }
  ],
  "metadata": {
    "kernelspec": {
      "display_name": "IA",
      "language": "python",
      "name": "python3"
    },
    "language_info": {
      "name": "python",
      "version": "3.13.2"
    },
    "colab": {
      "provenance": []
    }
  },
  "nbformat": 4,
  "nbformat_minor": 5
}